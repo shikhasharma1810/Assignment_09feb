{
 "cells": [
  {
   "cell_type": "code",
   "execution_count": 1,
   "id": "b1766634-0186-400f-bb0d-f194397473b9",
   "metadata": {},
   "outputs": [],
   "source": [
    "'''1. Create a vehicle class with an init method having instance variables as name_of_vehicle, max_speed and \n",
    "average_of_vehicle.'''\n",
    "\n",
    "class vehicle:\n",
    "    \n",
    "     def __init__(self,name_of_vehicle, max_speed, average_of_vehicle):\n",
    "        self.name_of_vehicle=name_of_vehicle\n",
    "        self.max_speed=max_speed\n",
    "        self.average_of_vehicle=average_of_vehicle\n"
   ]
  },
  {
   "cell_type": "code",
   "execution_count": 2,
   "id": "b7566962-a293-47b6-82e1-858473470511",
   "metadata": {},
   "outputs": [],
   "source": [
    "car=vehicle('Toyota',85,140)"
   ]
  },
  {
   "cell_type": "code",
   "execution_count": 4,
   "id": "38a2c986-5909-46e4-a413-11fb984670f0",
   "metadata": {},
   "outputs": [
    {
     "data": {
      "text/plain": [
       "'Toyota'"
      ]
     },
     "execution_count": 4,
     "metadata": {},
     "output_type": "execute_result"
    }
   ],
   "source": [
    "car.name_of_vehicle"
   ]
  },
  {
   "cell_type": "code",
   "execution_count": 5,
   "id": "2aa07982-fe0c-4092-aa01-630164e99d4f",
   "metadata": {},
   "outputs": [
    {
     "data": {
      "text/plain": [
       "85"
      ]
     },
     "execution_count": 5,
     "metadata": {},
     "output_type": "execute_result"
    }
   ],
   "source": [
    "car.max_speed"
   ]
  },
  {
   "cell_type": "code",
   "execution_count": 7,
   "id": "4d7b49dc-e1a6-46eb-99ee-2978ee09f27c",
   "metadata": {},
   "outputs": [
    {
     "data": {
      "text/plain": [
       "140"
      ]
     },
     "execution_count": 7,
     "metadata": {},
     "output_type": "execute_result"
    }
   ],
   "source": [
    "car.average_of_vehicle"
   ]
  },
  {
   "cell_type": "code",
   "execution_count": 26,
   "id": "f27f11c7-b5a1-4f36-9511-2a1824635338",
   "metadata": {},
   "outputs": [],
   "source": [
    "''' 2. Create a child class car from the vehicle class created in Que 1, which will inherit the vehicle class.\n",
    "Create a method named seating_capacity which takes capacity as an argument and returns the name of the vehicle and its seating \n",
    "capacity.'''\n",
    "\n",
    "class vehicle:\n",
    "    \n",
    "     def __init__(self,name_of_vehicle, max_speed, average_of_vehicle):\n",
    "        self.name_of_vehicle=name_of_vehicle\n",
    "        self.max_speed=max_speed\n",
    "        self.average_of_vehicle=average_of_vehicle\n",
    "    \n",
    "class car(vehicle):\n",
    "    \n",
    "    def seating_capacity(self):\n",
    "        self.capacity=5\n",
    "        print('Name of vehicle-',self.name_of_vehicle)\n",
    "        print('Capacity of vehicle-',self.capacity)\n",
    "       "
   ]
  },
  {
   "cell_type": "code",
   "execution_count": 27,
   "id": "e84fab5e-614e-40ee-955b-08344629fa2d",
   "metadata": {},
   "outputs": [],
   "source": [
    "car1=car('Innova',90,150)"
   ]
  },
  {
   "cell_type": "code",
   "execution_count": 28,
   "id": "cfc91acd-9d8d-48d5-a786-8a384b4b5b00",
   "metadata": {},
   "outputs": [
    {
     "data": {
      "text/plain": [
       "'Innova'"
      ]
     },
     "execution_count": 28,
     "metadata": {},
     "output_type": "execute_result"
    }
   ],
   "source": [
    "car1.name_of_vehicle"
   ]
  },
  {
   "cell_type": "code",
   "execution_count": 29,
   "id": "a670b040-8377-42f4-ae64-e28e40575622",
   "metadata": {},
   "outputs": [
    {
     "name": "stdout",
     "output_type": "stream",
     "text": [
      "Name of vehicle- Innova\n",
      "Capacity of vehicle- 5\n"
     ]
    }
   ],
   "source": [
    "car1.seating_capacity()"
   ]
  },
  {
   "cell_type": "code",
   "execution_count": 13,
   "id": "cb38a6ed-a0cd-45b4-8d25-276d97e7ae0f",
   "metadata": {},
   "outputs": [],
   "source": [
    "'''3. What is multiple inheritance? Write a python code to demonstrate multiple inheritance.\n",
    "\n",
    "When a class is derived from more than one base class it is called multiple Inheritance. The derived class inherits all \n",
    "the features of the base case. \n",
    "Example:'''\n",
    "\n",
    "class student:\n",
    "    def test1(self):\n",
    "        return 'Student of class 1'\n",
    "    \n",
    "class student1:\n",
    "      def test2(self):\n",
    "        return 'Student of class 2'  \n",
    "    \n",
    "class student3(student,student1):\n",
    "    pass"
   ]
  },
  {
   "cell_type": "code",
   "execution_count": 48,
   "id": "34d33b47-a5a0-4345-87f3-564a2e6da113",
   "metadata": {},
   "outputs": [],
   "source": [
    "test=student3()"
   ]
  },
  {
   "cell_type": "code",
   "execution_count": 49,
   "id": "445c29fd-6327-47e9-b592-ecbf50f0fd2b",
   "metadata": {},
   "outputs": [
    {
     "data": {
      "text/plain": [
       "'Student of class 1'"
      ]
     },
     "execution_count": 49,
     "metadata": {},
     "output_type": "execute_result"
    }
   ],
   "source": [
    "test.test1()"
   ]
  },
  {
   "cell_type": "code",
   "execution_count": 50,
   "id": "a9b17585-fab9-4f2d-8efb-55cffddcec05",
   "metadata": {},
   "outputs": [
    {
     "data": {
      "text/plain": [
       "'Student of class 2'"
      ]
     },
     "execution_count": 50,
     "metadata": {},
     "output_type": "execute_result"
    }
   ],
   "source": [
    "test.test2()"
   ]
  },
  {
   "cell_type": "code",
   "execution_count": 1,
   "id": "82b4975e-7c78-41ce-9cf7-dc1f2b3d3332",
   "metadata": {},
   "outputs": [],
   "source": [
    "'''4. What are getter and setter in python? Create a class and create a getter and a setter method in this class.\n",
    "\n",
    "Basically, the main purpose of using getters and setters in object-oriented programs is to ensure data encapsulation.\n",
    "Getters and Setters in python are often used when:\n",
    "\n",
    "a. We use getters & setters to add validation logic around getting and setting a value.\n",
    "b. To avoid direct access of a class field i.e. private variables cannot be accessed directly or modified by external user.\n",
    "\n",
    "Example:'''\n",
    "\n",
    "class car:\n",
    "    \n",
    "    # initializing the variables\n",
    "    def __init__(self,year,make,model,speed):\n",
    "        # double underscore is used to hide the objects of the class.\n",
    "        self.__year=year\n",
    "        self.__make=make\n",
    "        self.__model=model\n",
    "        self.__speed=0\n",
    "        \n",
    "    #giving privileges to the user, here speed overwrites __speed object by making custom function set_speed.\n",
    "    def set_speed(self,speed) :\n",
    "        self.__speed = 0 if speed < 0 else speed\n",
    "          \n",
    "    # function for getting the valus of speed of a car.\n",
    "    def get_speed(self) :\n",
    "        return self.__speed"
   ]
  },
  {
   "cell_type": "code",
   "execution_count": 4,
   "id": "49cdd5fd-122f-4b33-ab4c-2a67dda56f05",
   "metadata": {},
   "outputs": [],
   "source": [
    "details=car(1998,'Tata','Nano',95)"
   ]
  },
  {
   "cell_type": "code",
   "execution_count": 6,
   "id": "5c163f35-4b6f-4537-9ab0-0bdce5dfa8d5",
   "metadata": {},
   "outputs": [],
   "source": [
    "details.set_speed(100)"
   ]
  },
  {
   "cell_type": "code",
   "execution_count": 8,
   "id": "02221b1e-0915-42e5-b6e1-ec956eb5c786",
   "metadata": {},
   "outputs": [
    {
     "data": {
      "text/plain": [
       "100"
      ]
     },
     "execution_count": 8,
     "metadata": {},
     "output_type": "execute_result"
    }
   ],
   "source": [
    "details.get_speed()"
   ]
  },
  {
   "cell_type": "code",
   "execution_count": 51,
   "id": "33a17cde-b27e-4528-9d1f-28e7115db051",
   "metadata": {},
   "outputs": [
    {
     "name": "stdout",
     "output_type": "stream",
     "text": [
      "Hello! This is Shikha\n",
      "How may I help you\n"
     ]
    }
   ],
   "source": [
    "'''5. What is method overriding in python? Write a python code to demonstrate method overriding.\n",
    "\n",
    "When a method in a subclass has the same name, same parameters or signature and same return type(or sub-type) as a method\n",
    "in its super-class, then the method in the subclass is said to override the method in the super-class.'''\n",
    "\n",
    "class pwskills:\n",
    "        \n",
    "    def show_details(self):\n",
    "        print('How may I help you')\n",
    "        \n",
    "class student(pwskills):\n",
    "    \n",
    "    def show_details(self):\n",
    "        print('Hello! This is Shikha')\n",
    "        \n",
    "obj=student()\n",
    "obj1=pwskills()\n",
    "\n",
    "obj.show_details()\n",
    "obj1.show_details()"
   ]
  }
 ],
 "metadata": {
  "kernelspec": {
   "display_name": "Python 3 (ipykernel)",
   "language": "python",
   "name": "python3"
  },
  "language_info": {
   "codemirror_mode": {
    "name": "ipython",
    "version": 3
   },
   "file_extension": ".py",
   "mimetype": "text/x-python",
   "name": "python",
   "nbconvert_exporter": "python",
   "pygments_lexer": "ipython3",
   "version": "3.10.8"
  }
 },
 "nbformat": 4,
 "nbformat_minor": 5
}
